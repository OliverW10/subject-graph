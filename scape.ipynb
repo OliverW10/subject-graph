{
 "cells": [
  {
   "cell_type": "code",
   "execution_count": 2,
   "metadata": {},
   "outputs": [],
   "source": [
    "import requests\n",
    "from bs4 import BeautifulSoup\n",
    "import re\n",
    "\n",
    "response = requests.get(\"https://www.handbook.uts.edu.au/subjects/alpha.html\")\n",
    "soup = BeautifulSoup(response.text, \"html.parser\")"
   ]
  },
  {
   "cell_type": "code",
   "execution_count": 10,
   "metadata": {},
   "outputs": [
    {
     "name": "stdout",
     "output_type": "stream",
     "text": [
      "['https://handbook.uts.edu.au/subjects/32998.html', 'https://handbook.uts.edu.au/subjects/32543.html', 'https://handbook.uts.edu.au/subjects/42145.html', 'https://handbook.uts.edu.au/subjects/42890.html', 'https://handbook.uts.edu.au/subjects/92681.html', 'https://handbook.uts.edu.au/subjects/92360.html', 'https://handbook.uts.edu.au/subjects/92376.html', 'https://handbook.uts.edu.au/subjects/92389.html', 'https://handbook.uts.edu.au/subjects/59720.html', 'https://handbook.uts.edu.au/subjects/59721.html']\n"
     ]
    }
   ],
   "source": [
    "links = soup.find_all('a', href=True)\n",
    "pattern = re.compile(r'/\\d{5}\\.html')\n",
    "all_subject_links = [x[\"href\"] for x in links if pattern.search(x[\"href\"])]\n",
    "print(all_subject_links[:10])\n"
   ]
  },
  {
   "cell_type": "code",
   "execution_count": 22,
   "metadata": {},
   "outputs": [],
   "source": [
    "from dataclasses import dataclass\n",
    "from enum import Enum, auto\n",
    "\n",
    "class SubjectType(Enum):\n",
    "    Undergraduate = auto()\n",
    "    Postgraduate = auto()\n",
    "\n",
    "@dataclass\n",
    "class SubjectInfo:\n",
    "    subject_type: SubjectType\n",
    "    number: int\n",
    "    name: str\n",
    "    prereqs: list[int]\n",
    "    area: str"
   ]
  },
  {
   "cell_type": "code",
   "execution_count": 27,
   "metadata": {},
   "outputs": [
    {
     "name": "stdout",
     "output_type": "stream",
     "text": [
      "https://handbook.uts.edu.au/subjects/42890.html\n"
     ]
    }
   ],
   "source": [
    "print(all_subject_links[3])"
   ]
  },
  {
   "cell_type": "code",
   "execution_count": 26,
   "metadata": {},
   "outputs": [
    {
     "name": "stdout",
     "output_type": "stream",
     "text": [
      "SubjectInfo(subject_type=<SubjectType.Postgraduate: 2>, number='32998', name='32998 .NET Application Development', prereqs=[32555], area='Information Technology')\n",
      "SubjectInfo(subject_type=<SubjectType.Postgraduate: 2>, number='32543', name='32543 3D Animation', prereqs=[], area='Information Technology')\n"
     ]
    },
    {
     "ename": "IndexError",
     "evalue": "list index out of range",
     "output_type": "error",
     "traceback": [
      "\u001b[0;31m---------------------------------------------------------------------------\u001b[0m",
      "\u001b[0;31mIndexError\u001b[0m                                Traceback (most recent call last)",
      "Cell \u001b[0;32mIn[26], line 22\u001b[0m\n\u001b[1;32m     18\u001b[0m requisites \u001b[38;5;241m=\u001b[39m [\u001b[38;5;28mint\u001b[39m(x\u001b[38;5;241m.\u001b[39mtext) \u001b[38;5;28;01mfor\u001b[39;00m x \u001b[38;5;129;01min\u001b[39;00m requisite_el[\u001b[38;5;241m0\u001b[39m]\u001b[38;5;241m.\u001b[39mfind_all(\u001b[38;5;124m\"\u001b[39m\u001b[38;5;124ma\u001b[39m\u001b[38;5;124m\"\u001b[39m)] \u001b[38;5;28;01mif\u001b[39;00m requisite_el \u001b[38;5;28;01melse\u001b[39;00m []\n\u001b[1;32m     20\u001b[0m subject_name \u001b[38;5;241m=\u001b[39m soup\u001b[38;5;241m.\u001b[39mfind(\u001b[38;5;124m\"\u001b[39m\u001b[38;5;124mh1\u001b[39m\u001b[38;5;124m\"\u001b[39m)\u001b[38;5;241m.\u001b[39mtext\n\u001b[0;32m---> 22\u001b[0m subject_type_str \u001b[38;5;241m=\u001b[39m \u001b[43m[\u001b[49m\u001b[43mx\u001b[49m\u001b[38;5;241;43m.\u001b[39;49m\u001b[43mtext\u001b[49m\u001b[43m \u001b[49m\u001b[38;5;28;43;01mfor\u001b[39;49;00m\u001b[43m \u001b[49m\u001b[43mx\u001b[49m\u001b[43m \u001b[49m\u001b[38;5;129;43;01min\u001b[39;49;00m\u001b[43m \u001b[49m\u001b[43msoup\u001b[49m\u001b[38;5;241;43m.\u001b[39;49m\u001b[43mfind_all\u001b[49m\u001b[43m(\u001b[49m\u001b[38;5;124;43m\"\u001b[39;49m\u001b[38;5;124;43mp\u001b[39;49m\u001b[38;5;124;43m\"\u001b[39;49m\u001b[43m)\u001b[49m\u001b[43m \u001b[49m\u001b[38;5;28;43;01mif\u001b[39;49;00m\u001b[43m \u001b[49m\u001b[43mx\u001b[49m\u001b[38;5;241;43m.\u001b[39;49m\u001b[43mtext\u001b[49m\u001b[43m \u001b[49m\u001b[38;5;241;43m==\u001b[39;49m\u001b[43m \u001b[49m\u001b[38;5;124;43m\"\u001b[39;49m\u001b[38;5;124;43mUndergraduate\u001b[39;49m\u001b[38;5;124;43m\"\u001b[39;49m\u001b[43m \u001b[49m\u001b[38;5;129;43;01mor\u001b[39;49;00m\u001b[43m \u001b[49m\u001b[43mx\u001b[49m\u001b[38;5;241;43m.\u001b[39;49m\u001b[43mtext\u001b[49m\u001b[43m \u001b[49m\u001b[38;5;241;43m==\u001b[39;49m\u001b[43m \u001b[49m\u001b[38;5;124;43m\"\u001b[39;49m\u001b[38;5;124;43mPostgraduate\u001b[39;49m\u001b[38;5;124;43m\"\u001b[39;49m\u001b[43m]\u001b[49m\u001b[43m[\u001b[49m\u001b[38;5;241;43m0\u001b[39;49m\u001b[43m]\u001b[49m\n\u001b[1;32m     23\u001b[0m subject_type \u001b[38;5;241m=\u001b[39m SubjectType[subject_type_str]\n\u001b[1;32m     25\u001b[0m new_subj \u001b[38;5;241m=\u001b[39m SubjectInfo(subject_type, subject_number, subject_name, requisites, course_area)\n",
      "\u001b[0;31mIndexError\u001b[0m: list index out of range"
     ]
    }
   ],
   "source": [
    "\n",
    "all_subjects = []\n",
    "\n",
    "for subject_link in all_subject_links[:5]:\n",
    "    subject_number = subject_link.split(\"/\")[-1][:-5]\n",
    "\n",
    "    response = requests.get(subject_link)\n",
    "    if response.status_code != 200:\n",
    "        print(f\"Unsuccessful: {response.status_code}\")\n",
    "        print(response)\n",
    "        break\n",
    "\n",
    "    soup = BeautifulSoup(response.text, \"html.parser\")\n",
    "\n",
    "\n",
    "    course_area = soup.find(\"a\", class_=\"coursearea\").text\n",
    "\n",
    "    requisite_el = [x for x in soup.find_all(\"em\") if x.text.strip().startswith(\"Requisite\")]\n",
    "    requisites = [int(x.text) for x in requisite_el[0].find_all(\"a\")] if requisite_el else []\n",
    "\n",
    "    subject_name = soup.find(\"h1\").text\n",
    "\n",
    "    subject_type_str = [x.text for x in soup.find_all(\"p\") if x.text == \"Undergraduate\" or x.text == \"Postgraduate\"][0]\n",
    "    subject_type = SubjectType[subject_type_str]\n",
    "    \n",
    "    new_subj = SubjectInfo(subject_type, subject_number, subject_name, requisites, course_area)\n",
    "    all_subjects.append(new_subj)\n",
    "    print(new_subj)\n"
   ]
  }
 ],
 "metadata": {
  "kernelspec": {
   "display_name": ".env",
   "language": "python",
   "name": "python3"
  },
  "language_info": {
   "codemirror_mode": {
    "name": "ipython",
    "version": 3
   },
   "file_extension": ".py",
   "mimetype": "text/x-python",
   "name": "python",
   "nbconvert_exporter": "python",
   "pygments_lexer": "ipython3",
   "version": "3.10.12"
  }
 },
 "nbformat": 4,
 "nbformat_minor": 2
}
