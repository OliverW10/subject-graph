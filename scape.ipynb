{
 "cells": [
  {
   "cell_type": "code",
   "execution_count": 1,
   "metadata": {},
   "outputs": [],
   "source": [
    "import requests\n",
    "from bs4 import BeautifulSoup\n",
    "import re\n",
    "\n",
    "response = requests.get(\"https://www.handbook.uts.edu.au/subjects/alpha.html\")\n",
    "soup = BeautifulSoup(response.text, \"html.parser\")"
   ]
  },
  {
   "cell_type": "code",
   "execution_count": 2,
   "metadata": {},
   "outputs": [
    {
     "name": "stdout",
     "output_type": "stream",
     "text": [
      "['https://handbook.uts.edu.au/subjects/32998.html', 'https://handbook.uts.edu.au/subjects/32543.html', 'https://handbook.uts.edu.au/subjects/42145.html', 'https://handbook.uts.edu.au/subjects/42890.html', 'https://handbook.uts.edu.au/subjects/92681.html', 'https://handbook.uts.edu.au/subjects/92360.html', 'https://handbook.uts.edu.au/subjects/92376.html', 'https://handbook.uts.edu.au/subjects/92389.html', 'https://handbook.uts.edu.au/subjects/59720.html', 'https://handbook.uts.edu.au/subjects/59721.html']\n",
      "3148\n"
     ]
    }
   ],
   "source": [
    "links = soup.find_all('a', href=True)\n",
    "pattern = re.compile(r'/\\d{5}\\.html')\n",
    "all_subject_links: list[str] = [x[\"href\"] for x in links if pattern.search(x[\"href\"])]\n",
    "print(all_subject_links[:10])\n",
    "print(len(all_subject_links))\n"
   ]
  },
  {
   "cell_type": "code",
   "execution_count": null,
   "metadata": {},
   "outputs": [],
   "source": [
    "from dataclasses import dataclass\n",
    "from enum import Enum, auto\n",
    "\n",
    "class SubjectType(Enum):\n",
    "    Undergraduate = auto()\n",
    "    Postgraduate = auto()\n",
    "    NotSpecified = auto()\n",
    "\n",
    "@dataclass\n",
    "class SubjectInfo:\n",
    "    number: int\n",
    "    name: str\n",
    "    prereqs_required: list[int]\n",
    "    prereqs_options: list[str]"
   ]
  },
  {
   "cell_type": "code",
   "execution_count": 4,
   "metadata": {},
   "outputs": [
    {
     "name": "stdout",
     "output_type": "stream",
     "text": [
      "{32998: '<!DOCTYPE html>\\n<html>\\n<head>\\n    <meta http-equiv=\"content-type\" content=\"text/html; charset=utf-8\" />\\n    <!-- Generic Metadata -->\\n<meta name=\"description\" content=\"The UTS: Handbook is the authoritative source of information on approved courses and subjects offered at University of Technology Sydney.\" />\\n<meta name=\"author\" content=\"University of Technology Sydney\" />\\n\\n<!-- No cache Metadata -->\\n<meta http-equiv=\"Cache-Control\" content=\"no-cache\" />\\n<meta http-equiv=\"Pragma\" content=\"no-cache\" />\\n\\n<!-- Dublin Core Metadata -->\\n<meta name=\"DC.Creator\" content=\"University of Technology Sydney\" />\\n<meta name=\"DC.Title\" content=\"University of Technology Sydney\" />\\n<meta name=\"DC.Description\" content=\"The UTS: Handbook is the authoritative source of information on approved courses and subjects offered at University of Technology Sydney.\" />\\n<meta name=\"DC.Publisher\" content=\"University of Technology Sydney\" />\\n<meta name=\"DC.Date.Created\" content=\"2009-10-30\" />\\n<meta name=\"DC.Date.Modified\" content=\"2019-09-26\" />\\n<meta name=\"DC.Identifier\" content=\"https://www.uts.edu.au/\" />\\n<meta name=\"DC.Language\" content=\"English\" />\\n<meta name=\"DC.Rights\" content=\"Copyright, University of Technology, Sydney. Refer to the UTSWeb Copyright Statement (https://www.uts.edu.au/copyright.html).\" />\\n\\n<link rel=\"shortcut icon\" href=\"https://www.handbook.uts.edu.au/images/favicon.ico\" type=\"image/x-icon\" />\\n\\n    <title>UTS:&nbsp;32998 .NET Application Development - Information Technology,&nbsp;UTS Handbook </title>\\n    \\n\\n    <link rel=\"stylesheet\" type=\"text/css\" href=\"https://www.handbook.uts.edu.au/css/generic/stylesheet.css\" />\\n    <link rel=\"stylesheet\" type=\"text/css\" href=\"https://www.handbook.uts.edu.au/css/generic/site-template.css\" />\\n\\n    <!--[if lt IE 7]>   <link rel=\"stylesheet\" type=\"text/css\" href=\"https://www.handbook.uts.edu.au/css/generic/ie6.css\" /><![endif]-->\\n\\n    <link rel=\"stylesheet\" type=\"text/css\" href=\"https://www.handbook.uts.edu.au/css/override.css\" />\\n    <link rel=\"stylesheet\" type=\"text/css\" href=\"https://www.handbook.uts.edu.au/css/bootstrap.css\" />\\n    \\n    <link rel=\"stylesheet\" type=\"text/css\" media=\"print\" href=\"https://www.handbook.uts.edu.au/css/generic/print.css\" />\\n\\n    <script src=\"https://code.jquery.com/jquery-1.11.3.min.js\" integrity=\"sha256-7LkWEzqTdpEfELxcZZlS6wAx5Ff13zZ83lYO2/ujj7g=\" crossorigin=\"anonymous\"></script>\\n   <!-- <script src=\"https://www.handbook.uts.edu.au/js/jquery-1.11.3.min.js\" type=\"text/javascript\"></script> -->\\n<!---    <script src=\"http://datasearch2.uts.edu.au/common-assets/js/tabber.js\" type=\"text/javascript\"></script> --->\\n    <script src=\"https://www.handbook.uts.edu.au/js/bootstrap.js\" type=\"text/javascript\"></script>\\n\\n    <!-- Display the current tab even when JS is disabled -->\\n    \\n\\n    <script type=\"text/javascript\">var current_content = 0;</script>\\n<!-- Google Tag Manager -->\\n<script>(function(w,d,s,l,i){w[l]=w[l]||[];w[l].push({\\'gtm.start\\':\\nnew Date().getTime(),event:\\'gtm.js\\'});var f=d.getElementsByTagName(s)[0],\\nj=d.createElement(s),dl=l!=\\'dataLayer\\'?\\'&l=\\'+l:\\'\\';j.async=true;j.src=\\n\\'https://www.googletagmanager.com/gtm.js?id=\\'+i+dl;f.parentNode.insertBefore(j,f);\\n})(window,document,\\'script\\',\\'dataLayer\\',\\'GTM-PPCSCCF\\');</script>\\n<!-- End Google Tag Manager -->\\n\\n    \\n    \\n\\n<!---    <script src=\"https://web.uts.edu.au/js/generic/utils.js\" type=\"text/javascript\"></script> --->\\n\\n    \\n</head>\\n\\n<body id=\"it\">\\n\\n    <!-- Skip Links -->\\n    <div id=\"skip-links\"><a href=\"#start-content\"> <img src=\"https://web.uts.edu.au/images/css/skip.jpg\" alt=\"Skip to content\" width=\"0\" height=\"0\" /> </a> <a href=\"#navigation\"> <img src=\"https://web.uts.edu.au/images/css/skip.jpg\" alt=\"Skip to navigation\" width=\"0\" height=\"0\" /> </a> <a href=\"https://www.uts.edu.au/accessibility.html\"> <img src=\"https://web.uts.edu.au/images/css/skip.jpg\" alt=\"Accessibility statement\" width=\"0\" height=\"0\" /> </a>\\n<p class=\"hidden\">Using a modern browser that supports web standards ensures that the site\\'s full visual experience is available.  Consider upgrading your browser if you are using an older technology.</p>\\n</div>\\n\\n    <!-- Global Utility Bar (Banner) -->\\n    <div id=\"global-utility-bar\">\\n        <!-- UTS Logo -->\\n<div id=\"uts-logo\">\\n<a href=\"https://www.uts.edu.au\"><img src=\"https://www.handbook.uts.edu.au/images/uts-logo-black.svg\" width=\"70px\" height=\"30px\" alt=\"University of Technology Sydney homepage\"/></a>\\n</div>\\n\\n<!-- Main Title -->\\n<div class=\"hidden-title\">\\n<p>University of Technology Sydney</p>\\n</div>\\n\\n<!-- Search Form -->\\n<div id=\"global-utility-bar-search\">\\n<form method=\"get\" action=\"https://cfsites1.uts.edu.au/publications/search.cfm\">\\n   <div>\\n      SEARCH\\n      &nbsp; <input type=\"radio\" name=\"scope\" value=\"site\" checked=\"checked\" id=\"search-this-site\" /> <label for=\"search-this-site\">this site</label>\\n      &nbsp; <input type=\"radio\" name=\"scope\" value=\"uts\" id=\"search-all-UTS\" /> <label for=\"search-all-UTS\">UTS</label> &nbsp;\\n      <label for=\"input-text\"></label><input type=\"text\" name=\"q\" size=\"14\" maxlength=\"100\" id=\"input-text\" />\\n      <input type=\"submit\" name=\"btnG\" value=\"Go\" />\\n   </div>\\n</form>\\n</div>\\n    </div>\\n\\n    <!--Tab Navigation -->\\n    <div id=\"header-wrapper\">\\n        \\n        <div id=\"header\">\\n            <a href=\"https://www.handbook.uts.edu.au/\" class=\"banner-title\">Handbook 2025</a>\\n<a href=\"https://www.handbook.uts.edu.au/\" class=\"semester-title\"></a>\\n<a href=\"https://www.handbook.uts.edu.au/it/\" class=\"coursearea\">Information Technology</a>\\n        </div>\\n    </div>\\n\\n    <div id=\"full-container\"> <!-- Full container, includes footer -->\\n        <div id=\"main-container\"> <!-- Main Container, does not include footer -->\\n            <!-- Sidebar -->\\n            <div id=\"sidebar-wrapper\"> <!-- important for IE6 -->\\n                <div id=\"sidebar\">\\n                    <!-- Use one or the other not both -->\\n                    \\n                    <div id=\"level3-nav\">\\n<div class=\"level3-nav-heading\">\\n<a href=\"https://www.handbook.uts.edu.au/index.html\">UTS Handbook</a>\\n</div>\\n<ul class=\"section-list\">\\n<li class=\"SectionNavLevel2\"><a href=\"https://www.handbook.uts.edu.au/how_to_use.html\">How to use this handbook</a></li>\\n<li class=\"SectionNavLevel2\"><a href=\"https://www.handbook.uts.edu.au/general/index.html\">General information</a></li>\\n<li class=\"SectionNavLevel2\"><a href=\"https://www.handbook.uts.edu.au/dates.html\">Principal dates</a></li>\\n<li class=\"SectionNavLevel2\"><a href=\"https://www.handbook.uts.edu.au/dates_academic.html\">Academic year dates</a></li>\\n<li class=\"SectionNavLevel2 current\"><a href=\"https://www.handbook.uts.edu.au/course_areas.html\"><span>Course areas</span></a>\\n<ul id=\"sectionGroup15088\">\\n<li class=\"SectionNavLevel3\"><a href=\"https://www.handbook.uts.edu.au/ads/index.html\">Analytics and Data Science</a></li>\\n<li class=\"SectionNavLevel3\"><a href=\"https://www.handbook.uts.edu.au/bus/index.html\">Business</a></li>\\n<li class=\"SectionNavLevel3\"><a href=\"https://www.handbook.uts.edu.au/comm/index.html\">Communication</a></li>\\n<li class=\"SectionNavLevel3\"><a href=\"https://www.handbook.uts.edu.au/cii/index.html\">Creative Intelligence and Innovation</a></li>\\n<li class=\"SectionNavLevel3\"><a href=\"https://www.handbook.uts.edu.au/dab/index.html\">Design, Architecture and Building</a></li>\\n<li class=\"SectionNavLevel3\"><a href=\"https://www.handbook.uts.edu.au/edu/index.html\">Education</a></li>\\n<li class=\"SectionNavLevel3\"><a href=\"https://www.handbook.uts.edu.au/eng/index.html\">Engineering</a></li>\\n<li class=\"SectionNavLevel3\"><a href=\"https://www.handbook.uts.edu.au/health/index.html\">Health</a></li>\\n<li class=\"SectionNavLevel3\"><a href=\"https://www.handbook.uts.edu.au/health-gem/index.html\">Graduate School of Health</a></li>\\n<li class=\"SectionNavLevel3 current\" id=\"currentpage\"><a href=\"https://www.handbook.uts.edu.au/it/index.html\"><span>Information Technology</span></a></li>\\n<li class=\"SectionNavLevel3\"><a href=\"https://www.handbook.uts.edu.au/intl/index.html\">International Studies and Social Sciences</a></li>\\n<li class=\"SectionNavLevel3\"><a href=\"https://www.handbook.uts.edu.au/law/index.html\">Law</a></li>\\n<li class=\"SectionNavLevel3\"><a href=\"https://www.handbook.uts.edu.au/sci/index.html\">Science</a></li>\\n<li class=\"SectionNavLevel3\"><a href=\"https://www.handbook.uts.edu.au/tdi/index.html\">Transdisciplinary Innovation</a></li>\\n</ul>\\n</li>\\n<li class=\"SectionNavLevel2\"><a href=\"https://www.handbook.uts.edu.au/directory/index.html\">Study package directory</a></li>\\n<li class=\"SectionNavLevel2\"><a href=\"https://www.handbook.uts.edu.au/archives.html\">Archives</a></li>\\n<li class=\"SectionNavLevel2\"><a href=\"https://www.uts.edu.au/future-students\">Applying and enrolling <img src=\"https://web.uts.edu.au/images/css/link_icons.png\" class=\"ExternalLinkIcon\" alt=\"opens a UTSWeb sub-site\" width=\"9\" height=\"9\" /></a></li>\\n<li class=\"SectionNavLevel2\"><a href=\"http://www.gsu.uts.edu.au/rules/index.html\">Rules of the University <img src=\"https://web.uts.edu.au/images/css/link_icons.png\" class=\"ExternalLinkIcon\" alt=\"opens a UTSWeb sub-site\" width=\"9\" height=\"9\" /></a></li>\\n</ul>\\n</div>\\n\\n<div id=\"undernav-wrapper-triangle\">\\n<div id=\"sidebar-tabs-container\"></div>\\n<div id=\"sidebar-logos\"></div>\\n</div>\\n                </div>\\n            </div>\\n\\n            <div id=\"main-column\"><!-- Main Column -->\\n                <!-- Banner -->\\n                \\n\\n                <!-- Start Content -->\\n                <div id=\"main-content-nobanner\">\\n\\t                <div id=\"main-content\"><!-- Main Content -->\\n\\t\\t                <!-- Skip to Contents Anchor -->\\n\\t\\t                <a name=\"start-content\"></a>\\n\\n\\t\\t                <div id=\"content\"><!-- Content Columns -->\\n\\t\\t                    <div class=\"ie-images\"> <!-- fixes problem where images don\\'t display in ie6 -->\\n\\t\\t                        <h1>32998 .NET Application Development</h1>\\n<em>6cp</em>; <em>3hpw; 1.5hpw (lecture), 1.5hpw (lab)</em> \\n\\t\\n\\t<!-- remove all \"-\" --->\\n\\t\\n\\n\\n<br/><em>Requisite(s):  <a href=\"https://handbook.uts.edu.au/subjects/32555.html\">32555</a> Fundamentals of Software Development  </em> \\n<br /><em>These requisites may not apply to students in certain courses. See <a href=\"https://studentforms.uts.edu.au/evop/access/search.cfm?subjectcode=32998\">access conditions</a>.</em> \\n\\t\\n\\t<!-- remove all \"-\" --->\\n\\t\\n\\n\\n<br/><em>Anti-requisite(s): <a href=\"https://handbook.uts.edu.au/subjects/31927.html\">31927</a> Application Development with .NET </em> <br /><em>Recommended studies: a good understanding of programming constructs, O-O concepts and programming practices</em><br /><em><p>Postgraduate</p></em><h3>Description</h3>\\n\\t\\n<p><p>This subject introduces C#, Visual Studio and the .NET development environment. The emphasis is on examining the .NET framework and the practicalities of developing software in this setting using the C# language.</p></p>\\n\\t<h3>Typical availability</h3>\\n\\t\\n<p><p>Spring session, City campus </p></p>\\n\\t<br /><a href=\"./details/32998.html\">Detailed subject description.</a><br />\\n<div class=\"fees\">\\n\\n<h3><a href=\"/general/fees.html\">Fee information</a></h3>\\n<p>Information to assist with determining the applicable fee type can be found at <a href=\"http://www.uts.edu.au/current-students/managing-your-course/fees-and-payment/understanding-fees\">Understanding fees</a>.</p>\\n<ul>\\n\\t<li><strong>Commonwealth-supported students</strong>: view subject fees at <a href=\"http://cis.uts.edu.au/fees/index.cfm?liab_cd=CSP\">Fees Search: Commonwealth-supported</a></li>\\n\\t<li><strong>Postgraduate domestic fee-paying students</strong>: fees are charged according to the course enrolled in; refer to <a href=\"http://cis.uts.edu.au/fees/course-fees.cfm\">Domestic Fees Search: Postgraduate and Research</a></li>\\n\\t<li><strong>International students</strong>: fees are charged according to the course enrolled in; refer to <a href=\"http://www.uts.edu.au/current-students/managing-your-course/fees-and-payment/international-student-tuition-fees\">International Fees Search</a></li>\\n\\t<li><strong>Subject EFTSL</strong>: 0.125</li>\\n</ul>\\n\\n</div>\\n<div class=\"fees\"><h4><a href=\"https://studentforms.uts.edu.au/evop/access/search.cfm?subjectcode=32998\">Access conditions</a></h4>\\n<strong>Note:</strong> The requisite information presented in this subject description covers only academic requisites. Full details of all enforced rules, covering both academic and admission requisites, are available at <a href=\"https://studentforms.uts.edu.au/evop/access/search.cfm?subjectcode=32998\">access conditions</a> and My Student Admin.\\n</div>\\n\\n\\n\\n\\n\\n\\n\\t\\t                    </div>\\n\\t\\t                    <div class=\"clear\">\\n                                <!--<img src=\"https://www.uts.edu.au/images/dot_clear.gif\" width=\"15\" height=\"2\" alt=\"\" />-->\\n\\t\\t                    </div>\\n\\t\\t                </div><!-- Content Columns -->\\n\\t\\t            </div><!-- Main Content -->\\n\\t        \\t</div>\\n\\t        \\t<!-- End Content -->\\n        \\t</div><!-- Main Column -->\\n        </div> <!-- Main Container -->\\n\\n        <!-- Footer -->\\n        <div id=\"footer-wrapper\">\\n            <div id=\"website-footer\">\\n                \\n\\n<div id=\"footer-nav\"><a class=\"footer-name\" href=\"https://www.handbook.uts.edu.au/index.html\">UTS: Handbook 2025</a></div>\\n\\n<div id=\"footer-subnav\">\\n<p><a href=\"https://www.handbook.uts.edu.au/index.html\">UTS: Handbook</a> | \\n<a href=\"https://www.handbook.uts.edu.au/sitemap.html\">Site map</a> </p>\\n</div>\\n            </div>\\n            <div id=\"global-footer\">\\n                <div id=\"footer-img\">\\n<a href=\"https://www.uts.edu.au/\">\\n<img src=\"https://www.handbook.uts.edu.au/images/uts-logo-black.svg\" width=\"70px\" height=\"30px\" alt=\"University of Technology Sydney homepage\"/></a>\\n<br /><a href=\"https://www.atn.edu.au\">UTS is a member of the<br />Australian Technology Network of Universities</a>\\n</div>\\n\\n<div id=\"footer-text\">\\n<div class=\"primary-links\">\\n<a href=\"https://www.uts.edu.au/about\">About UTS</a> |\\n<a href=\"https://www.uts.edu.au/uts-library-1\">Library</a> |\\n<a href=\"https://www.uts.edu.au/uts-newsroom\">Newsroom</a> |\\n<a href=\"https://www.uts.edu.au/staff\">Staff</a> |\\n<a href=\"https://www.uts.edu.au/about/contacts/uts-contacts\">Contact us</a>\\n</div>\\n&copy; Copyright UTS - CRICOS Provider No: 00099F - TEQSA Provider ID: PRV12060 - TEQSA Category: Australian University - ABN: 77 257 686 961 - <span id=\"Date\">1 September 2024 12:31 PM</span><br />\\nThe page is authorised by Director, Institute for Interactive Media and Learning<br /> \\nSend comments to <a href=\"mailto:uapo@uts.edu.au\">UAPO</a><br />\\n<a href=\"https://www.uts.edu.au/disclaimer.html\">Disclaimer</a> |\\n<a href=\"https://www.uts.edu.au/privacy.html\">Privacy</a> |\\n<a href=\"https://www.uts.edu.au/copyright.html\">Copyright</a> |\\n<a href=\"https://www.uts.edu.au/accessibility.html\">Accessibility</a> |\\n<a href=\"https://www.gsu.uts.edu.au/policies/webpolicy.html\">Web policy</a> |\\n<a href=\"https://www.uts.edu.au/\">UTS homepage</a>\\n</div>\\n            </div>\\n        </div>\\n    </div> <!-- Full container, includes footer -->\\n\\n    \\n    <script type=\"text/javascript\">\\nvar gaJsHost = ((\"https:\" == document.location.protocol) ? \"https://ssl.\" : \"http://www.\");\\ndocument.write(unescape(\"%3Cscript src=\\'\" + gaJsHost + \"google-analytics.com/ga.js\\' type=\\'text/javascript\\'%3E%3C/script%3E\"));\\n</script>\\n\\n<script type=\"text/javascript\">\\ntry {\\nvar pageTracker = _gat._getTracker(\"UA-11130300-1\"); \\npageTracker._trackPageview();\\n\\nvar utsMasterTracker = _gat._getTracker(\"UA-10919634-1\");\\nutsMasterTracker._trackPageview(\"https://www.handbook.uts.edu.au\");\\nutsMasterTracker._setDomainName(\".uts.edu.au\");\\n} catch(err) {}\\n</script>\\n    <script src=\"https://www.handbook.uts.edu.au/js/override.js\" type=\"text/javascript\"></script>\\n<!-- Google Tag Manager (noscript) -->\\n<noscript><iframe src=\"https://www.googletagmanager.com/ns.html?id=GTM-PPCSCCF\"\\nheight=\"0\" width=\"0\" style=\"display:none;visibility:hidden\"></iframe></noscript>\\n<!-- End Google Tag Manager (noscript) -->\\n</body>\\n\\n</html>'}\n",
      "[0] - Extracting from: https://handbook.uts.edu.au/subjects/32998.html\n"
     ]
    },
    {
     "ename": "KeyError",
     "evalue": "0",
     "output_type": "error",
     "traceback": [
      "\u001b[0;31m---------------------------------------------------------------------------\u001b[0m",
      "\u001b[0;31mKeyError\u001b[0m                                  Traceback (most recent call last)",
      "Cell \u001b[0;32mIn[4], line 57\u001b[0m\n\u001b[1;32m     54\u001b[0m course_area \u001b[38;5;241m=\u001b[39m course_area_el\u001b[38;5;241m.\u001b[39mtext \u001b[38;5;28;01mif\u001b[39;00m course_area_el \u001b[38;5;28;01melse\u001b[39;00m \u001b[38;5;124m\"\u001b[39m\u001b[38;5;124m\"\u001b[39m\n\u001b[1;32m     56\u001b[0m requisite_el \u001b[38;5;241m=\u001b[39m [x \u001b[38;5;28;01mfor\u001b[39;00m x \u001b[38;5;129;01min\u001b[39;00m soup\u001b[38;5;241m.\u001b[39mfind_all(\u001b[38;5;124m\"\u001b[39m\u001b[38;5;124mem\u001b[39m\u001b[38;5;124m\"\u001b[39m) \u001b[38;5;28;01mif\u001b[39;00m x\u001b[38;5;241m.\u001b[39mtext\u001b[38;5;241m.\u001b[39mstrip()\u001b[38;5;241m.\u001b[39mstartswith(\u001b[38;5;124m\"\u001b[39m\u001b[38;5;124mRequisite\u001b[39m\u001b[38;5;124m\"\u001b[39m)][\u001b[38;5;241m0\u001b[39m]\n\u001b[0;32m---> 57\u001b[0m requisites \u001b[38;5;241m=\u001b[39m [\u001b[38;5;28mint\u001b[39m(x\u001b[38;5;241m.\u001b[39mtext) \u001b[38;5;28;01mfor\u001b[39;00m x \u001b[38;5;129;01min\u001b[39;00m \u001b[43mrequisite_el\u001b[49m\u001b[43m[\u001b[49m\u001b[38;5;241;43m0\u001b[39;49m\u001b[43m]\u001b[49m\u001b[38;5;241m.\u001b[39mfind_all(\u001b[38;5;124m\"\u001b[39m\u001b[38;5;124ma\u001b[39m\u001b[38;5;124m\"\u001b[39m)] \u001b[38;5;28;01mif\u001b[39;00m requisite_el \u001b[38;5;28;01melse\u001b[39;00m []\n\u001b[1;32m     59\u001b[0m subject_name \u001b[38;5;241m=\u001b[39m soup\u001b[38;5;241m.\u001b[39mfind(\u001b[38;5;124m\"\u001b[39m\u001b[38;5;124mh1\u001b[39m\u001b[38;5;124m\"\u001b[39m)\u001b[38;5;241m.\u001b[39mtext\n\u001b[1;32m     61\u001b[0m subject_type_str \u001b[38;5;241m=\u001b[39m [x\u001b[38;5;241m.\u001b[39mtext \u001b[38;5;28;01mfor\u001b[39;00m x \u001b[38;5;129;01min\u001b[39;00m soup\u001b[38;5;241m.\u001b[39mfind_all(\u001b[38;5;124m\"\u001b[39m\u001b[38;5;124mp\u001b[39m\u001b[38;5;124m\"\u001b[39m) \u001b[38;5;28;01mif\u001b[39;00m x\u001b[38;5;241m.\u001b[39mtext \u001b[38;5;241m==\u001b[39m \u001b[38;5;124m\"\u001b[39m\u001b[38;5;124mUndergraduate\u001b[39m\u001b[38;5;124m\"\u001b[39m \u001b[38;5;129;01mor\u001b[39;00m x\u001b[38;5;241m.\u001b[39mtext \u001b[38;5;241m==\u001b[39m \u001b[38;5;124m\"\u001b[39m\u001b[38;5;124mPostgraduate\u001b[39m\u001b[38;5;124m\"\u001b[39m]\n",
      "File \u001b[0;32m~/uts-scrape/.env/lib/python3.10/site-packages/bs4/element.py:1573\u001b[0m, in \u001b[0;36mTag.__getitem__\u001b[0;34m(self, key)\u001b[0m\n\u001b[1;32m   1570\u001b[0m \u001b[38;5;28;01mdef\u001b[39;00m \u001b[38;5;21m__getitem__\u001b[39m(\u001b[38;5;28mself\u001b[39m, key):\n\u001b[1;32m   1571\u001b[0m \u001b[38;5;250m    \u001b[39m\u001b[38;5;124;03m\"\"\"tag[key] returns the value of the 'key' attribute for the Tag,\u001b[39;00m\n\u001b[1;32m   1572\u001b[0m \u001b[38;5;124;03m    and throws an exception if it's not there.\"\"\"\u001b[39;00m\n\u001b[0;32m-> 1573\u001b[0m     \u001b[38;5;28;01mreturn\u001b[39;00m \u001b[38;5;28;43mself\u001b[39;49m\u001b[38;5;241;43m.\u001b[39;49m\u001b[43mattrs\u001b[49m\u001b[43m[\u001b[49m\u001b[43mkey\u001b[49m\u001b[43m]\u001b[49m\n",
      "\u001b[0;31mKeyError\u001b[0m: 0"
     ]
    }
   ],
   "source": [
    "import os\n",
    "\n",
    "# page cache files are named as\n",
    "# \"[subject number]-[retrieved at unix].txt\"\n",
    "\n",
    "import time\n",
    "now = round(time.time())\n",
    "retention_period = 60 * 60 * 24 * 365\n",
    "\n",
    "def read(file):\n",
    "    with open(os.path.join(cache_dir, file)) as f:\n",
    "        return f.read()\n",
    "\n",
    "cache_dir = \"pages_cache\"\n",
    "pages_list = os.listdir(cache_dir)\n",
    "pages = { int(p.split(\"-\")[0]) : read(p) for p in pages_list }\n",
    "print(pages)\n",
    "\n",
    "all_subjects: list[SubjectInfo] = []\n",
    "\n",
    "# Used to cache the requested pages because the uts handbook has a very slow rate limit\n",
    "# it caches the entire page contents rather than any parsed info to the cache to still be useful when changing how the parsing works\n",
    "def get_page(url, subject_number, retries = 0):\n",
    "    if subject_number in pages:\n",
    "        return pages[subject_number]\n",
    "    \n",
    "    response = requests.get(url)\n",
    "\n",
    "    # retry after a delay if not successfull\n",
    "    if response.status_code != 200:\n",
    "        if retries > 3:\n",
    "            raise Exception(\"failed :(\")\n",
    "        print(f\"Failed to get page, going to try again {retries}: {response.status_code}\")\n",
    "        time.sleep(5)\n",
    "        return get_page(url, subject_number, retries+1)\n",
    "\n",
    "    pages[subject_number] = response.text\n",
    "    with open(os.path.join(cache_dir, f\"{subject_number}-{now}.txt\"), \"w+\") as f:\n",
    "        f.write(response.text)\n",
    "    return response.text\n",
    "\n",
    "\n",
    "for i, subject_link in enumerate(all_subject_links[:5]):\n",
    "    print(f\"[{i}] - Extracting from: {subject_link}\")\n",
    "\n",
    "    subject_number = int(subject_link.split(\"/\")[-1][:-5]) # gets the filename, with .html removed\n",
    "    response = get_page(subject_link, subject_number)\n",
    "    \n",
    "\n",
    "    soup = BeautifulSoup(response, \"html.parser\")\n",
    "\n",
    "\n",
    "    course_area_el = soup.find(\"a\", class_=\"coursearea\")\n",
    "    course_area = course_area_el.text if course_area_el else \"\"\n",
    "\n",
    "    requisite_el = [x for x in soup.find_all(\"em\") if x.text.strip().startswith(\"Requisite\")][0]\n",
    "    requisites = [int(x.text) for x in requisite_el[0].find_all(\"a\")] if requisite_el else []\n",
    "\n",
    "    subject_name = soup.find(\"h1\").text\n",
    "\n",
    "    subject_type_str = [x.text for x in soup.find_all(\"p\") if x.text == \"Undergraduate\" or x.text == \"Postgraduate\"]\n",
    "    subject_type = SubjectType[subject_type_str[0]] if subject_type_str else SubjectType.NotSpecified\n",
    "    \n",
    "    new_subj = SubjectInfo(subject_type, subject_number, subject_name, requisites, [], course_area)\n",
    "    all_subjects.append(new_subj)\n",
    "    print(\"extracted: \", new_subj)\n"
   ]
  },
  {
   "cell_type": "code",
   "execution_count": null,
   "metadata": {},
   "outputs": [],
   "source": [
    "\n",
    "\n",
    "for x in all_subjects:\n",
    "    x.subject_type = str(x.subject_type).split(\".\")[1]\n"
   ]
  },
  {
   "cell_type": "code",
   "execution_count": null,
   "metadata": {},
   "outputs": [],
   "source": [
    "import json\n",
    "\n",
    "with open(\"subjects.json\", \"w+\") as f:\n",
    "    f.write(json.dumps([x.__dict__ for x in all_subjects]))"
   ]
  },
  {
   "cell_type": "code",
   "execution_count": null,
   "metadata": {},
   "outputs": [],
   "source": [
    "# came from https://handbook.uts.edu.au/courses/c10476.html\n",
    "# TODO: do for all courses\n",
    "subject_groups = [\n",
    "    \"https://handbook.uts.edu.au/directory/stm91764.html\",\n",
    "    \"https://handbook.uts.edu.au/directory/stm91765.html\",\n",
    "    \"https://handbook.uts.edu.au/directory/maj03445.html\",\n",
    "    \"https://handbook.uts.edu.au/directory/maj02901.html\",\n",
    "    \"https://handbook.uts.edu.au/directory/maj10053.html\",\n",
    "    \"https://handbook.uts.edu.au/directory/maj02080.html\",\n",
    "    \"https://handbook.uts.edu.au/directory/maj02900.html\",\n",
    "    \"https://handbook.uts.edu.au/directory/maj02092.html\",\n",
    "    \"https://handbook.uts.edu.au/directory/maj03519.html\",\n",
    "]\n",
    "course_subjects = []\n",
    "\n",
    "for group_url in subject_groups:\n",
    "    response = requests.get(group_url)\n",
    "    soup = BeautifulSoup(response.text, \"html.parser\")\n",
    "    links = soup.find_all('a', href=True)\n",
    "    pattern = re.compile(r'/\\d{5}\\.html')\n",
    "    course_subjects.extend([x.text for x in links if pattern.search(x[\"href\"])])\n",
    "print(course_subjects)"
   ]
  },
  {
   "cell_type": "code",
   "execution_count": null,
   "metadata": {},
   "outputs": [],
   "source": [
    "print(list(set(course_subjects)))"
   ]
  }
 ],
 "metadata": {
  "kernelspec": {
   "display_name": ".env",
   "language": "python",
   "name": "python3"
  },
  "language_info": {
   "codemirror_mode": {
    "name": "ipython",
    "version": 3
   },
   "file_extension": ".py",
   "mimetype": "text/x-python",
   "name": "python",
   "nbconvert_exporter": "python",
   "pygments_lexer": "ipython3",
   "version": "3.10.12"
  }
 },
 "nbformat": 4,
 "nbformat_minor": 2
}
